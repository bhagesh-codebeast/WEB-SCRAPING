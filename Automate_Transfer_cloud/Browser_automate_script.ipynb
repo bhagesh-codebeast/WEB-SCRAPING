{
 "cells": [
  {
   "source": [
    "# Script to paste links to transfercloud.io website using selenium"
   ],
   "cell_type": "markdown",
   "metadata": {}
  },
  {
   "cell_type": "code",
   "execution_count": 2,
   "metadata": {},
   "outputs": [],
   "source": [
    "# pip install selenium"
   ]
  },
  {
   "cell_type": "markdown",
   "metadata": {},
   "source": [
    "# Importing modules"
   ]
  },
  {
   "cell_type": "code",
   "execution_count": 2,
   "metadata": {},
   "outputs": [],
   "source": [
    "from selenium import webdriver\n",
    "from selenium.webdriver.chrome.options import Options\n",
    "import pandas as pd\n",
    "import time\n",
    "from selenium.common.exceptions import NoSuchElementException"
   ]
  },
  {
   "cell_type": "markdown",
   "metadata": {},
   "source": [
    "# Declaring variables"
   ]
  },
  {
   "cell_type": "code",
   "execution_count": 3,
   "metadata": {},
   "outputs": [],
   "source": [
    "link ={\"links\":[]}\n",
    "\n",
    "# please add in your username & password\n",
    "username = \"username\"\n",
    "passwd = \"password\"\n",
    "\n",
    "username_field = '//*[@id=\"userName\"]'\n",
    "passwd_field = '//*[@id=\"userPassword\"]'\n",
    "login_button = '//*[@id=\"loginBtn\"]'\n",
    "\n",
    "radio = '//*[@id=\"RadioGroup1_0\"]'\n",
    "down_vid = '/html/body/section/form/div/div[1]/div[2]/div[2]/div[1]/div[4]/input[2]'\n",
    "down_vid_link = '/html/body/section/form/div/div[1]/div[2]/div[2]/div[1]/div[4]/input[1]'"
   ]
  },
  {
   "cell_type": "markdown",
   "metadata": {},
   "source": [
    "# Fetching links from file"
   ]
  },
  {
   "cell_type": "code",
   "execution_count": 4,
   "metadata": {},
   "outputs": [
    {
     "name": "stdout",
     "output_type": "stream",
     "text": [
      "There are 23 links.\n"
     ]
    }
   ],
   "source": [
    "file = open(\"links.txt\")\n",
    "for links in file.readlines():\n",
    "    link[\"links\"].append(links)\n",
    "link = pd.DataFrame(link)\n",
    "length = len(link['links'])\n",
    "print(f\"There are {length} links.\")"
   ]
  },
  {
   "cell_type": "markdown",
   "metadata": {},
   "source": [
    "# Driver setup & Login"
   ]
  },
  {
   "cell_type": "code",
   "execution_count": 5,
   "metadata": {},
   "outputs": [],
   "source": [
    "options = Options()\n",
    "options.add_argument(\"--headless\")\n",
    "driver = webdriver.Chrome(\"./chromedriver_win32/chromedriver.exe\",options=options)\n",
    "time.sleep(3)\n",
    "\n",
    "driver.get(\"https://transfercloud.io/?121290\")\n",
    "time.sleep(3)\n",
    "print(\"Link opened\")\n",
    "driver.find_element_by_xpath(username_field).send_keys(username)\n",
    "driver.find_element_by_xpath(passwd_field).send_keys(passwd)\n",
    "driver.find_element_by_xpath(login_button).click()\n",
    "time.sleep(2)\n",
    "print(\"Logged in successfully!\")\n",
    "\n",
    "driver.find_element_by_xpath(radio).click()\n",
    "print(\"Switched to drive\")"
   ]
  },
  {
   "cell_type": "markdown",
   "metadata": {},
   "source": [
    "# Paste links"
   ]
  },
  {
   "cell_type": "code",
   "execution_count": null,
   "metadata": {},
   "outputs": [
    {
     "name": "stdout",
     "output_type": "stream",
     "text": [
      "Pasting links0\n"
     ]
    }
   ],
   "source": [
    "for i in range(0,len(link)):\n",
    "    try:\n",
    "        driver.find_element_by_xpath('//*[@id=\"transferlist\"]/div[3]')\n",
    "        print(\"Que limit exceeded\")\n",
    "        time.sleep(300)\n",
    "    except NoSuchElementException:\n",
    "        print(f\"Pasting links{i+1}\")\n",
    "        driver.find_element_by_xpath(down_vid_link).send_keys(link[\"links\"][i])\n",
    "        driver.find_element_by_xpath(down_vid).click()\n",
    "        time.sleep(300)\n",
    "\n",
    "file.close()\n",
    "driver.close()"
   ]
  },
  {
   "cell_type": "code",
   "execution_count": null,
   "metadata": {},
   "outputs": [],
   "source": [
    "print(\"Task is complete!\")"
   ]
  }
 ],
 "metadata": {
  "kernelspec": {
   "display_name": "Python 3",
   "language": "python",
   "name": "python3"
  },
  "language_info": {
   "codemirror_mode": {
    "name": "ipython",
    "version": 3
   },
   "file_extension": ".py",
   "mimetype": "text/x-python",
   "name": "python",
   "nbconvert_exporter": "python",
   "pygments_lexer": "ipython3",
   "version": "3.8.3-final"
  }
 },
 "nbformat": 4,
 "nbformat_minor": 4
}